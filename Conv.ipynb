{
 "cells": [
  {
   "cell_type": "code",
   "execution_count": 1,
   "metadata": {},
   "outputs": [],
   "source": [
    "import numpy as np\n",
    "import pandas as pd\n",
    "import matplotlib.pyplot as plt\n",
    "%matplotlib inline\n",
    "\n",
    "from Data import Data"
   ]
  },
  {
   "cell_type": "code",
   "execution_count": 12,
   "metadata": {},
   "outputs": [],
   "source": [
    "class Convolution2D:\n",
    "    def __init__(self, kernel_size, Cin, Cout, Stride = 1, Padding = 0):\n",
    "        self.kernel_size = kernel_size\n",
    "        self.Cin = Cin\n",
    "        self.Cout = Cout\n",
    "        self.Stride = Stride\n",
    "        self.Padding = Padding\n",
    "        self.W = {\"data\" : np.random.normal(0.0, (2/Cin), (Cout, Cin, kernel_size, kernel_size)), \"delta\" : 0}\n",
    "        self.b = {\"data\" : np.random.randn((self.Cout)), \"delta\": 0}\n",
    "\n",
    "        self.input = {\"data\": None, \"delta\": None}\n",
    "        self.output = {\"data\" : None, \"delta\": None}\n",
    "\n",
    "\n",
    "    def forward_propogation(self, input):\n",
    "        self.input[\"data\"] = input\n",
    "        self.output[\"data\"] = self.correlation(input, self.W[\"data\"])\n",
    "        return self.output[\"data\"]\n",
    "\n",
    "    def backward_propogation(self, dy):\n",
    "        self.output[\"delta\"] = dy\n",
    "        M, Cin, H, _ = self.input[\"data\"].shape\n",
    "        o = np.zeros((self.W[\"data\"].shape))\n",
    "        for i in range(o.shape[2]):\n",
    "            for j in range(o.shape[3]):\n",
    "                bKernel = np.zeros((M, self.Cout, self.Cin, H, H))\n",
    "                if i + dy.shape[-1] < bKernel.shape[3] and j + dy.shape[-1] < bKernel.shape[4]:\n",
    "                    bKernel[:, :, :, i : (i + dy.shape[-1]), j : (j + dy.shape[-1])] = dy[:, :, np.newaxis, :, :]\n",
    "                    temp = (self.inputs[:, np.newaxis, :, :, :] * bKernel).sum((0, 3, 4))\n",
    "                    o[:, :, i, j] = temp\n",
    "        self.W[\"delta\"] = o\n",
    "        # self.W[\"grad\"] = self.convolution(self.inputs, dy)\n",
    "        self.b[\"delta\"] = np.sum(dy, axis=(2, 3))\n",
    "        self.dx = self.convolution(dy, np.rot90(np.rot90(self.W[\"data\"], axes=(2, 3)), axes=(2, 3)))\n",
    "\n",
    "        self.W[\"data\"] = self.W[\"data\"] - 0.01 * self.W[\"grad\"]\n",
    "        self.b[\"data\"] = self.b[\"data\"] - 0.01 * self.b[\"grad\"]\n",
    "        return self.dx\n",
    "\n",
    "    def convolution(self, dy, kernel):\n",
    "        M, Cin, H, _ = self.inputs.shape\n",
    "        output = np.zeros((self.inputs.shape))\n",
    "        for i in range(self.inputs.shape[2]):\n",
    "            for j in range(self.inputs.shape[3]):\n",
    "                bKernel = np.zeros((M, self.Cout, self.Cin, dy.shape[-1], dy.shape[-1]))\n",
    "                if i + self.kernel_size <= bKernel.shape[3] and j + self.kernel_size <= bKernel.shape[4]:\n",
    "                    bKernel[:, :, :, i : (i + kernel.shape[-1]), j : (j + kernel.shape[-1])] = kernel[np.newaxis, :, :, :, :]\n",
    "                    temp = (dy[:, :, np.newaxis, :, :] * bKernel)\n",
    "                    temp = temp.sum((1, 3, 4))\n",
    "                    output[:, :, i, j] = temp.reshape(temp.shape[0], temp.shape[1])\n",
    "        return output\n",
    "\n",
    "\n",
    "    def correlation(self, input, kernel):\n",
    "        M, Cin, H, _ = input.shape\n",
    "        new_h = int((H - self.kernel_size + 2 * self.Padding) / self.Stride + 1)\n",
    "        output = np.zeros((M, self.Cout, new_h, new_h))\n",
    "        for i in range(output.shape[2]):\n",
    "            for j in range(output.shape[3]):\n",
    "                bKernel = np.zeros((M, self.Cout, self.Cin, H, H))\n",
    "                if i + self.kernel_size <= bKernel.shape[3] and j + self.kernel_size <= bKernel.shape[4]:\n",
    "                    bKernel[:, :, :, i : (i + self.kernel_size), j : (j + self.kernel_size)] = kernel[np.newaxis, :, :, :, :]\n",
    "                    temp = (input[:, np.newaxis, :, :, :] * bKernel).sum((2, 3, 4))\n",
    "                    output[:, :, i, j] = temp.reshape(temp.shape[0], temp.shape[1])\n",
    "        return output\n",
    "\n",
    "# class FC:\n",
    "#     def __init__(self, n_nodes, n_output, learning_rate):\n",
    "#         self.n_nodes = n_nodes\n",
    "#         #  np.random.randn(n_output, n_nodes) np.random.normal(0.0, 0.5, (n_output, n_nodes))\n",
    "        \n",
    "#         self.W = {\"data\" :  1/np.sqrt(n_nodes / 2.) * np.random.randn(n_nodes, n_output), \"delta\" : np.zeros((n_output, n_nodes))}\n",
    "#         self.b = {\"data\": np.random.normal(0.0, 0.1, (1, n_output)) / np.sqrt(n_output), \"delta\" : np.zeros((1))}\n",
    "#         self.Y = {\"data\": 0, \"delta\": 0}\n",
    "#         self.learning_rate = learning_rate\n",
    "        \n",
    "#     def forward_propogation(self, inputs):\n",
    "#         self.inputs = inputs\n",
    "#         self.Y[\"data\"] = np.dot(self.inputs, self.W[\"data\"]) + self.b[\"data\"]\n",
    "#         return self.Y[\"data\"]\n",
    "    \n",
    "#     def backward_propogation(self, dy):\n",
    "#         si = dy.size\n",
    "#         self.W[\"delta\"] = dy.T.dot(self.inputs)\n",
    "#         self.b[\"delta\"] = np.sum(dy, axis=0) / si\n",
    "#         # self.Y[\"delta\"] = self.W[\"data\"].T.dot(dy)\n",
    "#         self.Y[\"delta\"] = np.dot(dy, self.W[\"delta\"]) / si\n",
    "\n",
    "#         self.W[\"data\"] -= self.W[\"delta\"].T * self.learning_rate\n",
    "#         self.b[\"data\"] -= self.b[\"delta\"] * self.learning_rate\n",
    "#         return self.Y[\"delta\"]\n",
    "\n",
    "class FC:\n",
    "    number = 0\n",
    "    def __init__ (self, num_in, num_out, learning_rate):\n",
    "        self.learning_rate = learning_rate\n",
    "        self.num_in = num_in\n",
    "        self.num_out = num_out\n",
    "        self.W = {\"data\": np.random.randn(num_in, num_out) / np.sqrt(num_in/2), \"delta\":0}\n",
    "        self.b = {\"data\": np.random.normal(0.0, 0.5, (1, num_out)) , \"delta\": 0}\n",
    "\n",
    "        self.input = {\"data\":None, \"delta\":None}\n",
    "        self.output = {\"data\":None, \"delta\":None}\n",
    "        self.name = FC.number\n",
    "        FC.number += 1\n",
    "\n",
    "    def forward_propogation(self, input):\n",
    "        self.input[\"data\"] = input\n",
    "        self.output[\"data\"] = np.dot(self.input[\"data\"], self.W[\"data\"]) + self.b[\"data\"]\n",
    "        return self.output[\"data\"]\n",
    "\n",
    "    def backward_propogation(self, doutput):\n",
    "        self.output[\"delta\"] = doutput\n",
    "        self.input[\"delta\"] = np.dot(self.output[\"delta\"], self.W[\"data\"].T) \n",
    "        # if self.name <= 1:\n",
    "        #     self.output[\"delta\"] = np.multiply(self.output[\"delta\"], 1 - np.power(self.output[\"data\"], 2))\n",
    "        \n",
    "        self.W[\"delta\"] = np.dot(self.input[\"data\"].T, self.output[\"delta\"]) / doutput.shape[0]\n",
    "        self.b[\"delta\"] = np.sum(self.output[\"delta\"], keepdims=True, axis=0) / doutput.shape[0]\n",
    "        # print(self.name)\n",
    "        # print(\"Mean weight\")\n",
    "        # print(np.mean(self.W[\"data\"]))\n",
    "        # print(\"Mean weight delta\")\n",
    "        # print(np.mean(self.W[\"delta\"]))\n",
    "        # print(\"Mean bias\")\n",
    "        # print(np.mean(self.b[\"data\"]))\n",
    "        # print(\"Mean bias delta\")\n",
    "        # print(np.mean(self.b[\"delta\"]))\n",
    "        \n",
    "        \n",
    "        self.W[\"data\"] = self.W[\"data\"] - self.W[\"delta\"] * self.learning_rate\n",
    "        self.b[\"data\"] = self.b[\"data\"] - self.b[\"delta\"] * self.learning_rate\n",
    "\n",
    "        # self.W[\"delta\"] = 0\n",
    "        # self.b[\"delta\"] = 0\n",
    "        return self.input[\"delta\"]\n",
    "\n",
    "\n",
    "class Maxpool:\n",
    "    def __init__(self, factor):\n",
    "        self.factor = factor\n",
    "\n",
    "    def forward_propogation(self, inputs):\n",
    "        self.inputs = inputs\n",
    "        temp = np.full((inputs.shape[0], inputs.shape[1], inputs.shape[2] // self.factor, inputs.shape[3] // self.factor), -float('inf'), dtype=inputs.dtype)\n",
    "        np.maximum.at(temp, (np.arange(inputs.shape[0])[:, None, None, None], np.arange(inputs.shape[1])[:, None, None], np.arange(inputs.shape[2])[:, None] // self.factor, np.arange(inputs.shape[3]) // self.factor), inputs)\n",
    "        return temp\n",
    "\n",
    "    def backward_propogation(self, dy):\n",
    "        return np.repeat(np.repeat(dy, self.factor, axis=2), self.factor, axis=3)\n",
    "\n",
    "class ReLU:\n",
    "    def __init__(self):\n",
    "        pass\n",
    "\n",
    "    def forward_propogation(self, inputs):\n",
    "        self.inputs = inputs\n",
    "        return np.maximum(inputs, 0)\n",
    "        # ret = inputs.copy()\n",
    "        # ret[ret < 0] = 0\n",
    "        # return ret\n",
    "        # return np.maximum(inputs, 0).reshape(inputs.shape)\n",
    "\n",
    "    def backward_propogation(self, dy):\n",
    "        dx = dy.copy()\n",
    "        dx[(self.inputs < 0).reshape(dy.shape)] = 0\n",
    "        return dx\n",
    "\n",
    "class softmax:\n",
    "    def __init__(self):\n",
    "        self.input = {\"data\":None, \"delta\":None}\n",
    "        self.output = {\"data\":None, \"delta\":None}\n",
    "\n",
    "    def forward_propogation(self, input):\n",
    "        self.input[\"data\"] = input \n",
    "        self.output[\"data\"] = np.exp(input - np.max(input)) / np.sum(np.exp(input - np.max(input)), axis=1, keepdims=True)\n",
    "        return self.output[\"data\"]\n",
    "\n",
    "    def backward_propogation(self, dy):\n",
    "        self.output[\"delta\"] = dy\n",
    "        self.input[\"delta\"] = self.output[\"data\"] - self.output[\"delta\"]\n",
    "        return self.input[\"delta\"]\n",
    "\n",
    "class Flatten:\n",
    "    def __init__(self):\n",
    "        pass\n",
    "\n",
    "    def forward_propogation(self, inputs):\n",
    "        self.N, self.Cout, self.H, _ = inputs.shape\n",
    "        return inputs.reshape(inputs.shape[0], np.prod(inputs.shape[1:]))\n",
    "\n",
    "    def backward_propogation(self, dy):\n",
    "        return dy.reshape(self.N, self.Cout, self.H, self.H)\n",
    "\n",
    "class Batchnorm:\n",
    "\n",
    "    def __init__(self, name):\n",
    "        self.name = name\n",
    "        \n",
    "        \n",
    "        \n",
    "\n",
    "    def forward_propogation(self, X):\n",
    "        if self.name == \"FC\":\n",
    "            self.gamma = np.ones((1, np.prod(X.shape[1:])))\n",
    "            self.beta = np.zeros((1, np.prod(X.shape[1:])))\n",
    "            self.n_X = X.shape[0]\n",
    "\n",
    "            self.X = X\n",
    "            self.N, self.nodes= X.shape\n",
    "\n",
    "            self.mu = np.mean(X, axis = 0, keepdims=True)\n",
    "            self.var = np.var(X, axis=0, keepdims=True)\n",
    "            self.X_norm = (X - self.mu.T) / np.sqrt(self.var)\n",
    "            self.out = self.gamma * self.X_norm + self.beta\n",
    "            \n",
    "            return self.out.reshape(X.shape)\n",
    "\n",
    "    def backward_propogation(self, dy):\n",
    "        if self.name == \"FC\":\n",
    "            X_mu = self.X - self.mu\n",
    "            var_inv = 1./np.sqrt(self.var + 1e-8)\n",
    "            dX_norm = dy * self.gamma\n",
    "\n",
    "            dvar = np.sum(dX_norm * X_mu, axis = 0) * -0.5 * (self.var + 1e-8) ** (-3/2)\n",
    "            dmu = np.sum(dX_norm * -var_inv, axis = 0) + dvar * 1/dy.shape[0] * np.sum(-2 * X_mu, axis=0)\n",
    "            dX = (dX_norm * var_inv) + (dmu / self.n_X) + (dvar * 2/self.n_X * X_mu)\n",
    "            dbeta = np.sum(dy,axis=0)\n",
    "            dgamma = dy.T.dot(self.X_norm.T)\n",
    "\n",
    "            \n",
    "            self.gamma = self.gamma - dgamma\n",
    "            self.beta = self.beta - dbeta\n",
    "            return dX\n",
    "\n",
    "\n",
    "\n",
    "        \n"
   ]
  },
  {
   "cell_type": "code",
   "execution_count": 13,
   "metadata": {},
   "outputs": [],
   "source": [
    "def importData(data_name, train_percentage):\n",
    "    data = Data(data_name)\n",
    "    data.prepare_data(train_percentage)\n",
    "    return data\n",
    "data_name, train_percentage = \"MNIST_dataset.csv\", 0.002\n",
    "data = importData(data_name, train_percentage)"
   ]
  },
  {
   "cell_type": "code",
   "execution_count": 30,
   "metadata": {},
   "outputs": [],
   "source": [
    "class LeNet5:\n",
    "    def __init__(self):\n",
    "        self.layout = list()\n",
    "        k1, Cin1, Cout1, factor, k2, Cin2, Cout2, nodes1, nodes2, nodes3, nodes4, learning_rate = 5, 1, 6, 2, 5, 6, 16, 256, 520, 50, 10, 1\n",
    "        self.layout.append(Convolution2D(k1, Cin1, Cout1))\n",
    "        self.layout.append(ReLU())\n",
    "        self.layout.append(Maxpool(factor))\n",
    "        self.layout.append(Convolution2D(k2, Cin2, Cout2))\n",
    "        self.layout.append(ReLU())\n",
    "        self.layout.append(Maxpool(factor))\n",
    "        self.layout.append(Flatten())\n",
    "        self.layout.append(FC(nodes1, nodes2, learning_rate))\n",
    "        self.layout.append(ReLU())\n",
    "        self.layout.append(FC(nodes2, nodes3, learning_rate))\n",
    "        self.layout.append(ReLU())\n",
    "        self.layout.append(FC(nodes3, nodes4, learning_rate))\n",
    "        # self.layout.append(Batchnorm(\"FC\"))\n",
    "        self.layout.append(softmax())\n",
    "\n",
    "    def forward_feed(self, input):\n",
    "        for index, i in enumerate(self.layout):\n",
    "            input = i.forward_propogation(input)\n",
    "            # print(input.shape)\n",
    "            if (np.sum(np.isnan(input)) > 0):\n",
    "                print(index)\n",
    "                print(\"Fuck\")\n",
    "                break\n",
    "        self.prediction = input\n",
    "        \n",
    "    def backward_feed(self, actual):\n",
    "        self.actual = actual\n",
    "        for j in self.layout[::-1]:\n",
    "            actual = j.backward_propogation(actual)\n",
    "            # print(actual.shape)\n",
    "            if (np.sum(np.isnan(actual)) > 0):\n",
    "                print(j)\n",
    "                print(\"kcuF\")\n",
    "                break\n",
    "\n",
    "    def L_i_vectorized(self):\n",
    "        act = self.actual.T\n",
    "        pred = self.prediction.T\n",
    "        delta = 1.0\n",
    "        margins = np.maximum(0, pred - pred[act==1] + delta)\n",
    "        margins[act==1] = 0\n",
    "        loss_i = np.sum(margins)\n",
    "        return loss_i/self.prediction.shape[0]\n"
   ]
  },
  {
   "cell_type": "code",
   "execution_count": 31,
   "metadata": {},
   "outputs": [
    {
     "ename": "AttributeError",
     "evalue": "'Convolution2D' object has no attribute 'inputs'",
     "output_type": "error",
     "traceback": [
      "\u001b[1;31m---------------------------------------------------------------------------\u001b[0m",
      "\u001b[1;31mAttributeError\u001b[0m                            Traceback (most recent call last)",
      "Cell \u001b[1;32mIn [31], line 8\u001b[0m\n\u001b[0;32m      6\u001b[0m actual \u001b[39m=\u001b[39m data\u001b[39m.\u001b[39my_train_vector\n\u001b[0;32m      7\u001b[0m arc\u001b[39m.\u001b[39mforward_feed(\u001b[39minput\u001b[39m)\n\u001b[1;32m----> 8\u001b[0m arc\u001b[39m.\u001b[39;49mbackward_feed(actual)\n",
      "Cell \u001b[1;32mIn [30], line 33\u001b[0m, in \u001b[0;36mLeNet5.backward_feed\u001b[1;34m(self, actual)\u001b[0m\n\u001b[0;32m     31\u001b[0m \u001b[39mself\u001b[39m\u001b[39m.\u001b[39mactual \u001b[39m=\u001b[39m actual\n\u001b[0;32m     32\u001b[0m \u001b[39mfor\u001b[39;00m j \u001b[39min\u001b[39;00m \u001b[39mself\u001b[39m\u001b[39m.\u001b[39mlayout[::\u001b[39m-\u001b[39m\u001b[39m1\u001b[39m]:\n\u001b[1;32m---> 33\u001b[0m     actual \u001b[39m=\u001b[39m j\u001b[39m.\u001b[39;49mbackward_propogation(actual)\n\u001b[0;32m     34\u001b[0m     \u001b[39m# print(actual.shape)\u001b[39;00m\n\u001b[0;32m     35\u001b[0m     \u001b[39mif\u001b[39;00m (np\u001b[39m.\u001b[39msum(np\u001b[39m.\u001b[39misnan(actual)) \u001b[39m>\u001b[39m \u001b[39m0\u001b[39m):\n",
      "Cell \u001b[1;32mIn [12], line 29\u001b[0m, in \u001b[0;36mConvolution2D.backward_propogation\u001b[1;34m(self, dy)\u001b[0m\n\u001b[0;32m     27\u001b[0m         \u001b[39mif\u001b[39;00m i \u001b[39m+\u001b[39m dy\u001b[39m.\u001b[39mshape[\u001b[39m-\u001b[39m\u001b[39m1\u001b[39m] \u001b[39m<\u001b[39m bKernel\u001b[39m.\u001b[39mshape[\u001b[39m3\u001b[39m] \u001b[39mand\u001b[39;00m j \u001b[39m+\u001b[39m dy\u001b[39m.\u001b[39mshape[\u001b[39m-\u001b[39m\u001b[39m1\u001b[39m] \u001b[39m<\u001b[39m bKernel\u001b[39m.\u001b[39mshape[\u001b[39m4\u001b[39m]:\n\u001b[0;32m     28\u001b[0m             bKernel[:, :, :, i : (i \u001b[39m+\u001b[39m dy\u001b[39m.\u001b[39mshape[\u001b[39m-\u001b[39m\u001b[39m1\u001b[39m]), j : (j \u001b[39m+\u001b[39m dy\u001b[39m.\u001b[39mshape[\u001b[39m-\u001b[39m\u001b[39m1\u001b[39m])] \u001b[39m=\u001b[39m dy[:, :, np\u001b[39m.\u001b[39mnewaxis, :, :]\n\u001b[1;32m---> 29\u001b[0m             temp \u001b[39m=\u001b[39m (\u001b[39mself\u001b[39;49m\u001b[39m.\u001b[39;49minputs[:, np\u001b[39m.\u001b[39mnewaxis, :, :, :] \u001b[39m*\u001b[39m bKernel)\u001b[39m.\u001b[39msum((\u001b[39m0\u001b[39m, \u001b[39m3\u001b[39m, \u001b[39m4\u001b[39m))\n\u001b[0;32m     30\u001b[0m             o[:, :, i, j] \u001b[39m=\u001b[39m temp\n\u001b[0;32m     31\u001b[0m \u001b[39mself\u001b[39m\u001b[39m.\u001b[39mW[\u001b[39m\"\u001b[39m\u001b[39mdelta\u001b[39m\u001b[39m\"\u001b[39m] \u001b[39m=\u001b[39m o\n",
      "\u001b[1;31mAttributeError\u001b[0m: 'Convolution2D' object has no attribute 'inputs'"
     ]
    }
   ],
   "source": [
    "arc = LeNet5()\n",
    "input = data.x_train.reshape(data.x_train.shape[0], 1, int(np.sqrt(data.x_train.shape[1])), int(np.sqrt(data.x_train.shape[1])))\n",
    "\n",
    "for i in range(20):\n",
    "    # input = data.x_train\n",
    "    actual = data.y_train_vector\n",
    "    arc.forward_feed(input)\n",
    "    arc.backward_feed(actual)\n",
    "    # print(arc.L_i_vectorized())\n",
    "    \n"
   ]
  },
  {
   "cell_type": "code",
   "execution_count": 25,
   "metadata": {},
   "outputs": [
    {
     "data": {
      "text/plain": [
       "array([7, 7, 9, 5, 9, 1, 5, 9, 8, 2, 5, 9, 6, 5, 5, 6, 7, 7, 1, 6, 2, 8,\n",
       "       2, 9, 9, 9, 1, 8, 9, 1, 8, 9, 1, 6, 1, 1, 7, 5, 2, 8, 6, 7, 6, 1,\n",
       "       1, 8, 9, 2, 2, 1, 5, 5, 6, 5, 5, 6, 5, 9, 6, 7, 3, 8, 2, 2, 5, 1,\n",
       "       5, 5, 5, 7, 2, 6, 8, 6, 6, 5, 5, 5, 1, 2, 1, 6, 6, 6], dtype=int64)"
      ]
     },
     "execution_count": 25,
     "metadata": {},
     "output_type": "execute_result"
    }
   ],
   "source": [
    "np.argmax(arc.layout[-1].output[\"data\"], axis=1)"
   ]
  },
  {
   "cell_type": "code",
   "execution_count": 26,
   "metadata": {},
   "outputs": [
    {
     "data": {
      "text/plain": [
       "67"
      ]
     },
     "execution_count": 26,
     "metadata": {},
     "output_type": "execute_result"
    }
   ],
   "source": [
    "np.sum(data.y_train == np.argmax(arc.layout[-1].output[\"data\"], axis=1))"
   ]
  },
  {
   "cell_type": "code",
   "execution_count": 8,
   "metadata": {},
   "outputs": [
    {
     "data": {
      "text/plain": [
       "array([2, 2, 2, 2, 2, 2, 2, 2, 2, 2, 2, 2, 2, 2, 2, 2, 2, 2, 2, 2, 2, 2,\n",
       "       2, 2, 2, 2, 2, 2, 2, 2, 2, 2, 2, 2, 2, 2, 2, 2, 2, 2, 2, 2, 2, 2,\n",
       "       2, 2, 2, 2, 2, 2, 2, 2, 2, 2, 2, 2, 2, 2, 2, 2, 2, 2, 2, 2, 2, 2,\n",
       "       2, 2, 2, 2, 2, 2, 2, 2, 2, 2, 2, 2, 2, 2, 2, 2, 2, 2], dtype=int64)"
      ]
     },
     "execution_count": 8,
     "metadata": {},
     "output_type": "execute_result"
    }
   ],
   "source": [
    "np.argmax(arc.layout[-1].out, axis=1)"
   ]
  },
  {
   "cell_type": "code",
   "execution_count": 226,
   "metadata": {},
   "outputs": [
    {
     "data": {
      "text/plain": [
       "(8, 784)"
      ]
     },
     "execution_count": 226,
     "metadata": {},
     "output_type": "execute_result"
    }
   ],
   "source": [
    "data.x_train.shape"
   ]
  },
  {
   "cell_type": "code",
   "execution_count": 227,
   "metadata": {},
   "outputs": [
    {
     "data": {
      "text/plain": [
       "<matplotlib.image.AxesImage at 0x230455f0d60>"
      ]
     },
     "execution_count": 227,
     "metadata": {},
     "output_type": "execute_result"
    },
    {
     "data": {
      "image/png": "[encoded data removed]",
      "text/plain": [
       "<Figure size 640x480 with 1 Axes>"
      ]
     },
     "metadata": {},
     "output_type": "display_data"
    }
   ],
   "source": [
    "plt.imshow(data.x_train[0].reshape(28, 28))"
   ]
  },
  {
   "cell_type": "code",
   "execution_count": 8,
   "metadata": {},
   "outputs": [
    {
     "data": {
      "text/plain": [
       "<matplotlib.image.AxesImage at 0x2302e5cda80>"
      ]
     },
     "execution_count": 8,
     "metadata": {},
     "output_type": "execute_result"
    },
    {
     "data": {
      "image/png": "[encoded data removed]",
      "text/plain": [
       "<Figure size 640x480 with 1 Axes>"
      ]
     },
     "metadata": {},
     "output_type": "display_data"
    }
   ],
   "source": [
    "plt.imshow(arc.layout[0].output[1, 3])"
   ]
  },
  {
   "cell_type": "code",
   "execution_count": 144,
   "metadata": {},
   "outputs": [
    {
     "data": {
      "text/plain": [
       "array([[-0.07581514, -0.01788062, -0.12350075,  0.03754671,  0.0169905 ],\n",
       "       [-0.17040323, -0.14420417,  0.09091042, -0.00761174, -0.05232261],\n",
       "       [ 0.29533529,  0.78976551,  1.50955162,  2.4197696 ,  0.0780152 ],\n",
       "       [ 0.49497989,  1.61996955,  4.11461879,  6.68472197,  0.04017892],\n",
       "       [-0.10112273, -0.04446973,  0.12539909,  0.00696695, -0.08097848]])"
      ]
     },
     "execution_count": 144,
     "metadata": {},
     "output_type": "execute_result"
    }
   ],
   "source": [
    "arc.layout[0].W[\"data\"][0, 0]"
   ]
  },
  {
   "cell_type": "code",
   "execution_count": 126,
   "metadata": {},
   "outputs": [
    {
     "data": {
      "text/plain": [
       "<matplotlib.image.AxesImage at 0x210173a77f0>"
      ]
     },
     "execution_count": 126,
     "metadata": {},
     "output_type": "execute_result"
    },
    {
     "data": {
      "image/png": "[encoded data removed]",
      "text/plain": [
       "<Figure size 640x480 with 1 Axes>"
      ]
     },
     "metadata": {},
     "output_type": "display_data"
    }
   ],
   "source": [
    "plt.imshow(arc.layout[0].W[\"data\"][0, 0])"
   ]
  },
  {
   "cell_type": "code",
   "execution_count": 9,
   "metadata": {},
   "outputs": [],
   "source": [
    "input = data.x_train.reshape(data.x_train.shape[0], 1, int(np.sqrt(data.x_train.shape[1])), int(np.sqrt(data.x_train.shape[1])))\n",
    "kernel_size, Cin, Cout, factor = 5, 1, 6, 2\n",
    "conv1 = Convolution2D(kernel_size, Cin, Cout)\n",
    "relu1 = ReLU()\n",
    "max1 = Maxpool(factor)\n",
    "kernel_size, Cin, Cout = 5, 6, 16\n",
    "conv2 = Convolution2D(kernel_size, Cin, Cout)\n",
    "max2 = Maxpool(factor)\n",
    "relu2 = ReLU()\n",
    "flat = Flatten()\n",
    "n_nodes, n_output, learning_rate = 256, 80, 0.1\n",
    "fc1 = FC(n_nodes, n_output, learning_rate)\n",
    "relu3 = ReLU()\n",
    "n_nodes, n_output, learning_rate = 80, 10, 0.1\n",
    "fc2 = FC(n_nodes, n_output, learning_rate)\n",
    "soft = softmax()"
   ]
  },
  {
   "cell_type": "code",
   "execution_count": 10,
   "metadata": {},
   "outputs": [],
   "source": [
    "c1 = conv1.forward_propogation(input)\n",
    "r1 = relu1.forward_propogation(c1)\n",
    "m1 = max1.forward_propogation(r1)\n",
    "c2 = conv2.forward_propogation(m1)\n",
    "r2 = relu2.forward_propogation(c2)\n",
    "m2 = max2.forward_propogation(r2)\n",
    "flt = flat.forward_propogation(m2)\n",
    "f1 = fc1.forward_propogation(flt)\n",
    "r3 = relu3.forward_propogation(f1)\n",
    "f2 = fc2.forward_propogation(r3.T)\n",
    "sft = soft.forward_propogation(f2)"
   ]
  },
  {
   "cell_type": "code",
   "execution_count": 11,
   "metadata": {},
   "outputs": [
    {
     "name": "stdout",
     "output_type": "stream",
     "text": [
      "(84, 80)\n",
      "(84, 16, 8, 8)\n",
      "(84, 6, 24, 24)\n"
     ]
    },
    {
     "data": {
      "text/plain": [
       "(84, 1, 28, 28)"
      ]
     },
     "execution_count": 11,
     "metadata": {},
     "output_type": "execute_result"
    }
   ],
   "source": [
    "actual = data.y_train_vector\n",
    "sft_b = soft.backward_propogation(actual.T)\n",
    "f2_b = fc2.backward_propogation(sft_b)\n",
    "r3_b = relu3.backward_propogation(f2_b)\n",
    "f1_b = fc1.backward_propogation(r3_b.T)\n",
    "flt_b = flat.backward_propogation(f1_b)\n",
    "m2_b = max2.backward_propogation(flt_b)\n",
    "r2_b = relu2.backward_propogation(m2_b)\n",
    "c2_b = conv2.backward_propogation(r2_b)\n",
    "m1_b = max1.backward_propogation(c2_b)\n",
    "r1_b = relu1.backward_propogation(m1_b)\n",
    "c1_b = conv1.backward_propogation(r1_b)\n",
    "c1_b.shape"
   ]
  },
  {
   "cell_type": "code",
   "execution_count": 149,
   "metadata": {},
   "outputs": [
    {
     "data": {
      "text/plain": [
       "(6, 1, 5, 5)"
      ]
     },
     "execution_count": 149,
     "metadata": {},
     "output_type": "execute_result"
    }
   ],
   "source": [
    "conv1.W[\"data\"].shape"
   ]
  },
  {
   "cell_type": "code",
   "execution_count": 157,
   "metadata": {},
   "outputs": [
    {
     "data": {
      "text/plain": [
       "<matplotlib.image.AxesImage at 0x2b414857ca0>"
      ]
     },
     "execution_count": 157,
     "metadata": {},
     "output_type": "execute_result"
    },
    {
     "data": {
      "image/png": "[encoded data removed]",
      "text/plain": [
       "<Figure size 640x480 with 1 Axes>"
      ]
     },
     "metadata": {},
     "output_type": "display_data"
    }
   ],
   "source": [
    "plt.imshow(conv2.output[4, 10])"
   ]
  },
  {
   "cell_type": "code",
   "execution_count": null,
   "metadata": {},
   "outputs": [
    {
     "data": {
      "text/plain": [
       "array([0, 0, 0, 0, 0, 0, 0, 0])"
      ]
     },
     "metadata": {},
     "output_type": "display_data"
    }
   ],
   "source": [
    "sum(np.isnan(f2))"
   ]
  },
  {
   "cell_type": "code",
   "execution_count": 10,
   "metadata": {},
   "outputs": [
    {
     "data": {
      "text/plain": [
       "(21, 16, 4, 4)"
      ]
     },
     "execution_count": 10,
     "metadata": {},
     "output_type": "execute_result"
    }
   ],
   "source": [
    "m2.shape"
   ]
  },
  {
   "cell_type": "code",
   "execution_count": 17,
   "metadata": {},
   "outputs": [
    {
     "data": {
      "text/plain": [
       "<matplotlib.image.AxesImage at 0x13c2cffef50>"
      ]
     },
     "execution_count": 17,
     "metadata": {},
     "output_type": "execute_result"
    },
    {
     "data": {
      "image/png": "[encoded data removed]",
      "text/plain": [
       "<Figure size 640x480 with 1 Axes>"
      ]
     },
     "metadata": {},
     "output_type": "display_data"
    }
   ],
   "source": [
    "plt.imshow(m1[2, 4])"
   ]
  },
  {
   "cell_type": "code",
   "execution_count": null,
   "metadata": {},
   "outputs": [],
   "source": [
    "F_0 = 5\n",
    "Cin_0 = 1\n",
    "Cout_0 = 6\n",
    "Stride_0 = 1\n",
    "Padding_0 = 0\n",
    "W_0 = np.random.normal(0.0, np.sqrt(2/Cin_0), (Cout_0, Cin_0, F_0, F_0))\n",
    "image = data.x_train[0:1, :]\n",
    "N, H_0 = image.shape\n",
    "H_0 = int(np.sqrt(H_0))\n",
    "image = image.reshape((N, Cin_0, H_0, H_0))\n",
    "nex_height = int((H_0 - F_0 + 2 * Padding_0)/ Stride_0) + 1 \n",
    "Z_0 = np.zeros((N, Cout_0, nex_height, nex_height))\n",
    "for i in range(Z_0.shape[2]):\n",
    "    for j in range(Z_0.shape[3]):\n",
    "        bKernel = np.zeros((N, Cout_0, Cin_0, H_0, H_0))\n",
    "        if i + F_0 <= bKernel.shape[3] and j + F_0 <= bKernel.shape[4]:\n",
    "            bKernel[:, :, :, i : (i + F_0), j : (j + F_0)] = W_0\n",
    "            temp = (image[:, np.newaxis, :, :, :] * bKernel).sum((3, 4))\n",
    "            Z_0[:, :, i, j] = temp.reshape(temp.shape[0], temp.shape[1])\n",
    "print(Z_0.shape)\n",
    "Z_0 = np.maximum(0, Z_0)\n",
    "print(Z_0.shape)\n",
    "Factor_0 = 2\n",
    "temp = np.full((Z_0.shape[0], Z_0.shape[1], Z_0.shape[2] // Factor_0, Z_0.shape[3] // Factor_0), -float('inf'), dtype=Z_0.dtype)\n",
    "np.maximum.at(temp, (np.arange(Z_0.shape[0])[:, None, None, None], np.arange(Z_0.shape[1])[:, None, None], np.arange(Z_0.shape[2])[:, None] // Factor_0, np.arange(Z_0.shape[3]) // Factor_0), Z_0)\n",
    "\n",
    "F_1 = 5\n",
    "Cin_1 = 6\n",
    "Cout_1 = 16\n",
    "Stride_1 = 1\n",
    "Padding_1 = 0\n",
    "W_1 = np.random.normal(0.0, np.sqrt(2/Cin_1), (Cout_1, Cin_1, F_1, F_1))\n",
    "image = temp\n",
    "N, Cin_1, H_1, _ = image.shape\n",
    "nex_height = int((H_1 - F_1 + 2 * Padding_1)/ Stride_1) + 1 \n",
    "Z_1 = np.zeros((N, Cout_1, nex_height, nex_height))\n",
    "for i in range(Z_1.shape[2]):\n",
    "    for j in range(Z_1.shape[3]):\n",
    "        bKernel = np.zeros((N, Cout_1, Cin_1, H_1, H_1))\n",
    "        if i + F_1 <= bKernel.shape[3] and j + F_1 <= bKernel.shape[4]:\n",
    "            bKernel[:, :, :, i : (i + F_1), j : (j + F_1)] = W_1\n",
    "            temp = (image[:, np.newaxis, :, :, :] * bKernel).sum((2, 3, 4))\n",
    "            Z_1[:, :, i, j] = temp.reshape(temp.shape[0], temp.shape[1])\n",
    "print(Z_1.shape)\n",
    "Z_1 = np.maximum(0, Z_1)\n",
    "print(Z_1.shape)\n",
    "Factor_1 = 2\n",
    "temp_0 = np.full((Z_1.shape[0], Z_1.shape[1], Z_1.shape[2] // Factor_1, Z_1.shape[3] // Factor_1), -float('inf'), dtype=Z_1.dtype)\n",
    "np.maximum.at(temp_0, (np.arange(Z_1.shape[0])[:, None, None, None], np.arange(Z_1.shape[1])[:, None, None], np.arange(Z_1.shape[2])[:, None] // Factor_1, np.arange(Z_1.shape[3]) // Factor_1), Z_1)\n",
    "print(temp_0.shape)\n",
    "input = temp_0.reshape(-1)\n",
    "input = input.reshape(1, input.shape[0])\n",
    "print(input.shape[0])\n",
    "net = DenseNetwork(3, [input.shape[1], 100, 10])\n",
    "net.initialize_weights()\n",
    "net.initialize_layers(input)\n",
    "net.link_layers()\n",
    "net.forward_feed()\n",
    "out = np.array([0, 0, 1, 0, 0, 0, 0, 0, 0, 0]).reshape(10, 1)\n",
    "net.backward_feed(out)\n"
   ]
  },
  {
   "cell_type": "code",
   "execution_count": null,
   "metadata": {},
   "outputs": [],
   "source": [
    "class Layer:\n",
    "    class Bias:\n",
    "        def __init__(self, n_nodes):\n",
    "            self.data = np.random.normal(loc = 0.0, scale = 0.5, size = (n_nodes, 1)) / np.sqrt(n_nodes)\n",
    "            self.delta = np.zeros((1))\n",
    "            \n",
    "        def update_data(self, alpha):\n",
    "            self.data = self.data - alpha * self.delta\n",
    "            if self.isNaN() > 0:\n",
    "                print(\"Nan occured in updated bias\")\n",
    "                exit()\n",
    "            self.reset_delta()\n",
    "            \n",
    "        def reset_delta(self):\n",
    "#             m,  = self.delta.shape\n",
    "            self.delta = np.zeros((1))\n",
    "            \n",
    "        def isNaN(self):\n",
    "            return np.sum(np.isnan(self.data))\n",
    "            \n",
    "        def __str__(self):\n",
    "            return f\"Bias Data :{self.data}, \\n Bias Delta: {self.delta}\"\n",
    "        \n",
    "    def __init__(self, n_nodes, activation_function, input_weight=None, output_weight=None):\n",
    "        self.bias = self.Bias(n_nodes)\n",
    "        self.input_weight = input_weight\n",
    "        self.output_weight = output_weight\n",
    "        if activation_function == \"softmax\":\n",
    "            self.activate_layer = self.activate_softmax\n",
    "            self.deactivate_layer = self.deactivate_softmax\n",
    "        else:\n",
    "            self.activate_layer = self.activate_ReLU\n",
    "            self.deactivate_layer = lambda actual : self.deactivate_ReLU(actual)\n",
    "            \n",
    "    def deactivate_softmax(self, actual):\n",
    "        self.dZ = self.A - actual\n",
    "        \n",
    "    def deactivate_ReLU(self):\n",
    "        self.dZ = self.output_weight.data.T.dot(self.output_layer.dZ) * Layer.deriv_ReLU(self.Z)\n",
    "        \n",
    "    def activate_softmax(self):\n",
    "        self.A = Layer.softmax(self.Z)\n",
    "        \n",
    "    def activate_ReLU(self):\n",
    "        self.A = Layer.ReLU(self.Z)\n",
    "        \n",
    "    def softmax(Z):\n",
    "#         expZ = np.exp(Z - np.max(Z))\n",
    "#         return expZ / np.sum(expZ, 0)\n",
    "        return np.exp(Z)/np.sum(np.exp(Z), 0)\n",
    "\n",
    "    def deriv_ReLU(Z):\n",
    "        return Z > 0\n",
    "    \n",
    "    def ReLU(Z):\n",
    "        return np.maximum(Z, 0)\n",
    "        \n",
    "    def set_input_layer(self, input_layer):\n",
    "        if hasattr(self, 'input_weight'):\n",
    "            self.input_layer = input_layer\n",
    "    \n",
    "    def set_output_layer(self, output_layer):\n",
    "        if hasattr(self, 'output_weight'):\n",
    "            self.output_layer = output_layer\n",
    "\n",
    "    def forward_propogation(self):\n",
    "        if hasattr(self, 'input_layer'):\n",
    "            self.Z = self.input_weight.data.dot(self.input_layer.A) + self.bias.data\n",
    "            self.activate_layer()\n",
    "            \n",
    "    def backward_propogation(self, actual):\n",
    "        si = actual.size\n",
    "        # if hasattr(self, 'input_layer'):\n",
    "        if hasattr(self, 'output_layer'):\n",
    "            self.deactivate_ReLU()\n",
    "        else:\n",
    "            self.deactivate_softmax(actual)\n",
    "        self.input_weight.delta = self.dZ.dot(self.input_layer.A.T) / si\n",
    "        self.bias.delta = np.sum(self.dZ) / si\n",
    "            \n",
    "    def update_parameters(self, alpha):\n",
    "        if hasattr(self, 'input_layer'):\n",
    "            self.input_weight.update_data(alpha)\n",
    "            self.bias.update_data(alpha)\n"
   ]
  },
  {
   "cell_type": "code",
   "execution_count": null,
   "metadata": {},
   "outputs": [],
   "source": [
    "class DenseNetwork:\n",
    "    def __init__(self, n_layers, n_nodes_list):\n",
    "        self.n_hidden = n_layers - 2\n",
    "        self.weights"
   ]
  },
  {
   "cell_type": "code",
   "execution_count": null,
   "metadata": {},
   "outputs": [],
   "source": [
    "\n",
    "\n",
    "class DenseNetwork:\n",
    "    class Weight:\n",
    "        def __init__(self, n_input, n_output):\n",
    "            self.data = np.random.randn(n_output, n_input) / np.sqrt(n_input/2)\n",
    "            # self.data = np.random.normal(loc = 0.0, scale = 0.5, size = (n_output, n_input)) / np.sqrt(n_input/2)\n",
    "            self.delta = np.zeros((n_output, n_input))\n",
    "            \n",
    "        def reset_delta(self):\n",
    "            m, n = self.delta.shape\n",
    "            self.delta = np.zeros((m, n))\n",
    "\n",
    "        def update_data(self, alpha):\n",
    "            self.data = self.data - alpha * self.delta\n",
    "            if self.isNaN() > 0:\n",
    "                print(\"Nan occured in updated weight\")\n",
    "                exit()\n",
    "            self.reset_delta()\n",
    "        \n",
    "        def isNaN(self):\n",
    "            return np.sum(np.isnan(self.data))\n",
    "        \n",
    "        def __str__(self):\n",
    "            return f\"Weight Data :{self.data}, \\n Weight Delta: {self.delta}\"\n",
    "        \n",
    "    def __init__(self, n_layers, n_nodes_list):\n",
    "        self.n_hidden = n_layers - 2\n",
    "        self.weights_list = list()\n",
    "        self.layers_list = list()\n",
    "        self.n_nodes_list = n_nodes_list\n",
    "        \n",
    "    def initialize_weights(self):\n",
    "        for i in range(self.n_hidden + 1):\n",
    "            cur_nodes = self.n_nodes_list[i]\n",
    "            nex_nodes = self.n_nodes_list[i + 1]\n",
    "            self.weights_list.append(self.Weight(cur_nodes, nex_nodes))\n",
    "            \n",
    "    def initialize_layers(self, data):\n",
    "        self.layers_list.append(Input_Layer(data, self.weights_list[0]))\n",
    "        for j in range(1, 1 + self.n_hidden):\n",
    "            self.layers_list.append(Layer(self.n_nodes_list[j], \"ReLU\", input_weight = self.weights_list[j - 1], output_weight = self.weights_list[j]))\n",
    "        self.layers_list.append(Layer(self.n_nodes_list[-1], \"softmax\", input_weight = self.weights_list[-1]))\n",
    "        \n",
    "    def link_layers(self):\n",
    "        self.layers_list[0].set_output_layer(self.layers_list[1])\n",
    "        for k in range(1, 1 + self.n_hidden):\n",
    "            self.layers_list[k].set_input_layer(self.layers_list[k -1])\n",
    "            self.layers_list[k].set_output_layer(self.layers_list[k + 1])\n",
    "        self.layers_list[-1].set_input_layer(self.layers_list[-2])\n",
    "        \n",
    "    def forward_feed(self):\n",
    "        for b in self.layers_list:\n",
    "            b.forward_propogation()\n",
    "            \n",
    "    def backward_feed(self, actual):\n",
    "        for c in self.layers_list[::-1]:\n",
    "            c.backward_propogation(actual)\n",
    "            \n",
    "    def update_network(self, alpha):\n",
    "        for d in self.layers_list:\n",
    "            d.update_parameters(alpha)\n",
    "\n",
    "    def accuracy(act, pred):\n",
    "        res = sum(argmax(pred, axis=0) == argmax(act, axis=0)) / pred.shape[1]\n",
    "        return res\n",
    "        \n",
    "            \n",
    "    def mean_squared_error(act, pred):\n",
    "        diff = pred - act\n",
    "        differences_squared = diff ** 2\n",
    "        mean_diff = differences_squared.mean()\n",
    "        return mean_diff\n",
    "    \n",
    "    def L_i_vectorized(act, pred):\n",
    "        delta = 1.0\n",
    "        margins = np.maximum(0, pred - pred[act==1] + delta)\n",
    "        margins[act==1] = 0\n",
    "        loss_i = np.sum(margins)\n",
    "        return loss_i/pred.shape[1]\n",
    "\n",
    "    def printStatement(self, act, iteration, epoch):\n",
    "        output = self.layers_list[-1].A\n",
    "        statement = \"Loss :\" + str(DenseNetwork.L_i_vectorized(act, output)) + \"; MSE: \" + str(DenseNetwork.mean_squared_error(act, output)) + \"; Accuracy: \" + str(DenseNetwork.accuracy(act, output)) + \" \" + str(iteration) + \" / \" + str(epoch)\n",
    "        return statement\n",
    "\n",
    "    def prediction(self, test_image):\n",
    "        temp = self.layers_list[0].A\n",
    "        self.layers_list[0].A = test_image\n",
    "        self.forward_feed()\n",
    "        output = argmax(self.layers_list[-1].A, axis=0)\n",
    "        self.layers_list[0].A = temp\n",
    "        print(\"I predict it as \" + str(output))\n",
    "\n",
    "class Layer:\n",
    "    class Bias:\n",
    "        def __init__(self, n_nodes):\n",
    "            self.data = np.random.normal(loc = 0.0, scale = 0.5, size = (n_nodes, 1)) / np.sqrt(n_nodes)\n",
    "            self.delta = np.zeros((1))\n",
    "            \n",
    "        def update_data(self, alpha):\n",
    "            self.data = self.data - alpha * self.delta\n",
    "            if self.isNaN() > 0:\n",
    "                print(\"Nan occured in updated bias\")\n",
    "                exit()\n",
    "            self.reset_delta()\n",
    "            \n",
    "        def reset_delta(self):\n",
    "#             m,  = self.delta.shape\n",
    "            self.delta = np.zeros((1))\n",
    "            \n",
    "        def isNaN(self):\n",
    "            return np.sum(np.isnan(self.data))\n",
    "            \n",
    "        def __str__(self):\n",
    "            return f\"Bias Data :{self.data}, \\n Bias Delta: {self.delta}\"\n",
    "        \n",
    "    def __init__(self, n_nodes, activation_function, input_weight=None, output_weight=None):\n",
    "        self.bias = self.Bias(n_nodes)\n",
    "        self.input_weight = input_weight\n",
    "        self.output_weight = output_weight\n",
    "        if activation_function == \"softmax\":\n",
    "            self.activate_layer = self.activate_softmax\n",
    "            self.deactivate_layer = self.deactivate_softmax\n",
    "        else:\n",
    "            self.activate_layer = self.activate_ReLU\n",
    "            self.deactivate_layer = lambda actual : self.deactivate_ReLU(actual)\n",
    "            \n",
    "    def deactivate_softmax(self, actual):\n",
    "        self.dZ = self.A - actual\n",
    "        \n",
    "    def deactivate_ReLU(self):\n",
    "        self.dZ = self.output_weight.data.T.dot(self.output_layer.dZ) * Layer.deriv_ReLU(self.Z)\n",
    "        \n",
    "    def activate_softmax(self):\n",
    "        self.A = Layer.softmax(self.Z)\n",
    "        \n",
    "    def activate_ReLU(self):\n",
    "        self.A = Layer.ReLU(self.Z)\n",
    "        \n",
    "    def softmax(Z):\n",
    "#         expZ = np.exp(Z - np.max(Z))\n",
    "#         return expZ / np.sum(expZ, 0)\n",
    "        return np.exp(Z)/np.sum(np.exp(Z), 0)\n",
    "\n",
    "    def deriv_ReLU(Z):\n",
    "        return Z > 0\n",
    "    \n",
    "    def ReLU(Z):\n",
    "        return np.maximum(Z, 0)\n",
    "        \n",
    "    def set_input_layer(self, input_layer):\n",
    "        if hasattr(self, 'input_weight'):\n",
    "            self.input_layer = input_layer\n",
    "    \n",
    "    def set_output_layer(self, output_layer):\n",
    "        if hasattr(self, 'output_weight'):\n",
    "            self.output_layer = output_layer\n",
    "\n",
    "    def forward_propogation(self):\n",
    "        if hasattr(self, 'input_layer'):\n",
    "            self.Z = self.input_weight.data.dot(self.input_layer.A) + self.bias.data\n",
    "            self.activate_layer()\n",
    "            \n",
    "    def backward_propogation(self, actual):\n",
    "        si = actual.size\n",
    "        # if hasattr(self, 'input_layer'):\n",
    "        if hasattr(self, 'output_layer'):\n",
    "            self.deactivate_ReLU()\n",
    "        else:\n",
    "            self.deactivate_softmax(actual)\n",
    "        self.input_weight.delta = self.dZ.dot(self.input_layer.A.T) / si\n",
    "        self.bias.delta = np.sum(self.dZ) / si\n",
    "            \n",
    "    def update_parameters(self, alpha):\n",
    "        if hasattr(self, 'input_layer'):\n",
    "            self.input_weight.update_data(alpha)\n",
    "            self.bias.update_data(alpha)\n",
    "            \n",
    "class Input_Layer(Layer):\n",
    "    def __init__(self, train_data, output_weight):\n",
    "        self.Z = train_data.T/255.\n",
    "        self.A = train_data.T/255.\n",
    "        self.output_weight = output_weight\n",
    "\n"
   ]
  },
  {
   "cell_type": "code",
   "execution_count": null,
   "metadata": {},
   "outputs": [],
   "source": [
    "def importData(data_name, train_percentage):\n",
    "    data = Data(data_name)\n",
    "    data.prepare_data(train_percentage)\n",
    "    return data\n",
    "\n",
    "data_name, train_percentage = \"MNIST_dataset.csv\", 0.4\n",
    "data = importData(data_name, train_percentage)\n",
    "\n"
   ]
  }
 ],
 "metadata": {
  "kernelspec": {
   "display_name": "Python 3.10.2 64-bit",
   "language": "python",
   "name": "python3"
  },
  "language_info": {
   "codemirror_mode": {
    "name": "ipython",
    "version": 3
   },
   "file_extension": ".py",
   "mimetype": "text/x-python",
   "name": "python",
   "nbconvert_exporter": "python",
   "pygments_lexer": "ipython3",
   "version": "3.10.2"
  },
  "orig_nbformat": 4,
  "vscode": {
   "interpreter": {
    "hash": "369f2c481f4da34e4445cda3fffd2e751bd1c4d706f27375911949ba6bb62e1c"
   }
  }
 },
 "nbformat": 4,
 "nbformat_minor": 2
}
